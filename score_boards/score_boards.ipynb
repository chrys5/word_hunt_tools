{
 "cells": [
  {
   "cell_type": "code",
   "execution_count": 2,
   "metadata": {},
   "outputs": [
    {
     "name": "stdout",
     "output_type": "stream",
     "text": [
      "C:\\Users\\jonlu\\VSCodeProjects\\word_hunt_tools\n",
      "['c:\\\\Users\\\\jonlu\\\\AppData\\\\Local\\\\Programs\\\\Python\\\\Python311\\\\python311.zip', 'c:\\\\Users\\\\jonlu\\\\AppData\\\\Local\\\\Programs\\\\Python\\\\Python311\\\\DLLs', 'c:\\\\Users\\\\jonlu\\\\AppData\\\\Local\\\\Programs\\\\Python\\\\Python311\\\\Lib', 'c:\\\\Users\\\\jonlu\\\\AppData\\\\Local\\\\Programs\\\\Python\\\\Python311', '', 'c:\\\\Users\\\\jonlu\\\\AppData\\\\Local\\\\Programs\\\\Python\\\\Python311\\\\Lib\\\\site-packages', 'c:\\\\Users\\\\jonlu\\\\AppData\\\\Local\\\\Programs\\\\Python\\\\Python311\\\\Lib\\\\site-packages\\\\win32', 'c:\\\\Users\\\\jonlu\\\\AppData\\\\Local\\\\Programs\\\\Python\\\\Python311\\\\Lib\\\\site-packages\\\\win32\\\\lib', 'c:\\\\Users\\\\jonlu\\\\AppData\\\\Local\\\\Programs\\\\Python\\\\Python311\\\\Lib\\\\site-packages\\\\Pythonwin', WindowsPath('C:/Users/jonlu/VSCodeProjects/word_hunt_tools'), 'C:\\\\Users\\\\jonlu\\\\VSCodeProjects\\\\word_hunt_tools\\\\src', WindowsPath('C:/Users/jonlu/VSCodeProjects/word_hunt_tools'), 'C:\\\\Users\\\\jonlu\\\\VSCodeProjects\\\\word_hunt_tools\\\\src']\n"
     ]
    }
   ],
   "source": [
    "import random\n",
    "import time\n",
    "import numpy as np\n",
    "import string\n",
    "import pickle\n",
    "\n",
    "import sys\n",
    "import os\n",
    "from pathlib import Path\n",
    "\n",
    "root_dir = Path().resolve().parent\n",
    "sys.path.append(root_dir)\n",
    "sys.path.append(os.path.join(root_dir, 'src'))\n",
    "\n",
    "print(root_dir)\n",
    "print(sys.path)\n",
    "\n",
    "path2 = lambda x: os.path.join(root_dir, x)\n",
    "\n",
    "from generate_dictionary import TrieNode\n",
    "from solve import score"
   ]
  },
  {
   "cell_type": "code",
   "execution_count": 3,
   "metadata": {},
   "outputs": [
    {
     "name": "stdout",
     "output_type": "stream",
     "text": [
      "[['A' '0.08352425967184723']\n",
      " ['B' '0.02358992630544005']\n",
      " ['C' '0.03359100872247729']\n",
      " ['D' '0.04132127039679605']\n",
      " ['E' '0.11670034186338094']\n",
      " ['F' '0.015108737811533154']\n",
      " ['G' '0.0302287508005376']\n",
      " ['H' '0.025373659381398662']\n",
      " ['I' '0.07103136303365415']\n",
      " ['J' '0.0033667679929282085']\n",
      " ['K' '0.017014242804181737']\n",
      " ['L' '0.05274528021071052']\n",
      " ['M' '0.029421448093592994']\n",
      " ['N' '0.055990276286948755']\n",
      " ['O' '0.0613910862956983']\n",
      " ['P' '0.029522924690834635']\n",
      " ['Q' '0.0017341222950849246']\n",
      " ['R' '0.06993541578344444']\n",
      " ['S' '0.09505876622498038']\n",
      " ['T' '0.05403065044243796']\n",
      " ['U' '0.038322073189432']\n",
      " ['V' '0.009236625384483551']\n",
      " ['W' '0.012689084726193591']\n",
      " ['X' '0.0033058820345832243']\n",
      " ['Y' '0.020200607957569252']\n",
      " ['Z' '0.005565427599830421']]\n"
     ]
    }
   ],
   "source": [
    "# get letter frequency of word_list\n",
    "# in word hunt, 5-7 letter words make up most points\n",
    "from collections import Counter\n",
    "\n",
    "WORD_LIST_PATH = \"words/Collins Scrabble Words (2019).txt\"\n",
    "with open(path2(WORD_LIST_PATH), \"r\") as f:\n",
    "    word_list = f.read().splitlines()\n",
    "    word_list = [word.upper() for word in word_list]\n",
    "all_5_7_letter_words = \"\".join([word for word in word_list if 5 <= len(word) <= 7])\n",
    "letter_freq = Counter(all_5_7_letter_words)\n",
    "total_letters = sum(letter_freq.values())\n",
    "letter_p = np.array([letter_freq[letter] / total_letters for letter in string.ascii_uppercase])\n",
    "\n",
    "print(np.concatenate([np.array(list(string.ascii_uppercase)).reshape(-1, 1), letter_p.reshape(-1, 1)], axis=1))\n",
    "\n",
    "PICKLE_FILE = \"words/trie.pkl\"\n",
    "#load trie\n",
    "with open(path2(PICKLE_FILE), 'rb') as f:\n",
    "    dictionary = pickle.load(f)"
   ]
  },
  {
   "cell_type": "code",
   "execution_count": 4,
   "metadata": {},
   "outputs": [],
   "source": [
    "def generate_random_letter():\n",
    "    return string.ascii_uppercase[np.random.choice(len(string.ascii_uppercase), p=letter_p)]\n",
    "\n",
    "def generate_random_boards(n):\n",
    "    return np.array([[[generate_random_letter() for _ in range(4)] for _ in range(4)] for _ in range(n)])"
   ]
  },
  {
   "cell_type": "code",
   "execution_count": 5,
   "metadata": {},
   "outputs": [
    {
     "name": "stdout",
     "output_type": "stream",
     "text": [
      "total time: 869.6559s\n"
     ]
    }
   ],
   "source": [
    "num_boards = 200000\n",
    "\n",
    "boards = generate_random_boards(num_boards)\n",
    "scores = np.zeros((num_boards, ))\n",
    "\n",
    "start_time = time.time()\n",
    "for i, board in enumerate(boards):\n",
    "    scores[i] = score(board, dictionary)\n",
    "end_time = time.time()\n",
    "print(f\"total time: {end_time - start_time:.4f}s\")"
   ]
  },
  {
   "cell_type": "code",
   "execution_count": 7,
   "metadata": {},
   "outputs": [],
   "source": [
    "#sort boards by score and write top 1000 to file\n",
    "sorted_indices = np.argsort(scores)[::-1]\n",
    "top_1000_boards = boards[sorted_indices][:1000]\n",
    "top_1000_scores = scores[sorted_indices][:1000]\n",
    "\n",
    "#write results to file\n",
    "with open(path2(\"score_boards/boards.txt\"), 'wb') as f:\n",
    "    for board, score in zip(top_1000_boards, top_1000_scores):\n",
    "        for row in board:\n",
    "            f.write(\"\".join(row).encode())\n",
    "            f.write(b\"\\n\")\n",
    "        f.write(f\"{score}\\n\".encode())\n",
    "        f.write(b\"\\n\")"
   ]
  },
  {
   "cell_type": "code",
   "execution_count": 12,
   "metadata": {},
   "outputs": [
    {
     "data": {
      "image/png": "[encoded data removed]",
      "text/plain": [
       "<Figure size 640x480 with 1 Axes>"
      ]
     },
     "metadata": {},
     "output_type": "display_data"
    }
   ],
   "source": [
    "import matplotlib.pyplot as plt\n",
    "plt.hist(scores, bins=100)\n",
    "plt.xlabel(\"Score\")\n",
    "plt.ylabel(\"Frequency\")\n",
    "plt.title(\"Distribution of scores of random boards\")\n",
    "plt.show()"
   ]
  },
  {
   "cell_type": "markdown",
   "metadata": {},
   "source": []
  },
  {
   "cell_type": "markdown",
   "metadata": {},
   "source": []
  },
  {
   "cell_type": "code",
   "execution_count": null,
   "metadata": {},
   "outputs": [],
   "source": []
  }
 ],
 "metadata": {
  "kernelspec": {
   "display_name": "Python 3",
   "language": "python",
   "name": "python3"
  },
  "language_info": {
   "codemirror_mode": {
    "name": "ipython",
    "version": 3
   },
   "file_extension": ".py",
   "mimetype": "text/x-python",
   "name": "python",
   "nbconvert_exporter": "python",
   "pygments_lexer": "ipython3",
   "version": "3.11.9"
  }
 },
 "nbformat": 4,
 "nbformat_minor": 2
}
